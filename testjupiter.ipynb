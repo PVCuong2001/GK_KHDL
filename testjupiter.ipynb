{
 "cells": [
  {
   "cell_type": "code",
   "execution_count": 1,
   "metadata": {},
   "outputs": [
    {
     "data": {
      "text/html": [
       "<div>\n",
       "<style scoped>\n",
       "    .dataframe tbody tr th:only-of-type {\n",
       "        vertical-align: middle;\n",
       "    }\n",
       "\n",
       "    .dataframe tbody tr th {\n",
       "        vertical-align: top;\n",
       "    }\n",
       "\n",
       "    .dataframe thead th {\n",
       "        text-align: right;\n",
       "    }\n",
       "</style>\n",
       "<table border=\"1\" class=\"dataframe\">\n",
       "  <thead>\n",
       "    <tr style=\"text-align: right;\">\n",
       "      <th></th>\n",
       "      <th>Name</th>\n",
       "      <th>Age</th>\n",
       "      <th>Height(in cm)</th>\n",
       "    </tr>\n",
       "  </thead>\n",
       "  <tbody>\n",
       "    <tr>\n",
       "      <th>0</th>\n",
       "      <td>John</td>\n",
       "      <td>45</td>\n",
       "      <td>150</td>\n",
       "    </tr>\n",
       "    <tr>\n",
       "      <th>1</th>\n",
       "      <td>Sammy</td>\n",
       "      <td>38</td>\n",
       "      <td>180</td>\n",
       "    </tr>\n",
       "    <tr>\n",
       "      <th>2</th>\n",
       "      <td>Joe</td>\n",
       "      <td>90</td>\n",
       "      <td>160</td>\n",
       "    </tr>\n",
       "  </tbody>\n",
       "</table>\n",
       "</div>"
      ],
      "text/plain": [
       "    Name  Age  Height(in cm)\n",
       "0   John   45            150\n",
       "1  Sammy   38            180\n",
       "2    Joe   90            160"
      ]
     },
     "execution_count": 1,
     "metadata": {},
     "output_type": "execute_result"
    }
   ],
   "source": [
    "\n",
    "# importing pandas library\n",
    "import pandas as pd\n",
    "# import matplotlib library\n",
    "import matplotlib.pyplot as plt\n",
    "  \n",
    "# creating dataframe\n",
    "df = pd.DataFrame({\n",
    "    'Name': ['John', 'Sammy', 'Joe'],\n",
    "    'Age': [45, 38, 90],\n",
    "    'Height(in cm)': [150, 180, 160]\n",
    "})\n",
    "df\n",
    "  \n",
    "# plotting graph\n",
    "# df.plot(x=\"Name\", y=[\"Age\", \"Height(in cm)\"], kind=\"bar\")"
   ]
  },
  {
   "cell_type": "code",
   "execution_count": 9,
   "metadata": {},
   "outputs": [
    {
     "name": "stdout",
     "output_type": "stream",
     "text": [
      "           x         y         z\n",
      "0   0.808004  3.924416  0.888289\n",
      "1   0.383573  4.984977  1.653251\n",
      "2   0.473281  1.901794  0.075364\n",
      "3   0.640232  0.516991  0.170386\n",
      "4   0.794551  4.132857  1.202227\n",
      "5   0.305002  3.609859  1.402037\n",
      "6   0.964829  2.506260  0.870077\n",
      "7   0.658483  1.680524  0.643788\n",
      "8   0.622270  0.215155  1.740771\n",
      "9   0.256735  2.496406  2.293708\n",
      "10  0.062968  4.392946  1.180541\n",
      "11  0.946661  0.690523  1.402119\n",
      "12  0.579062  0.812132  1.235488\n",
      "13  0.731427  0.701897  0.463462\n",
      "14  0.381421  0.197129  0.382763\n",
      "15  0.998627  4.062257  2.235882\n",
      "16  0.049348  3.390103  1.821613\n",
      "17  0.267586  3.866535  2.458086\n",
      "18  0.553035  0.735789  0.125255\n",
      "19  0.169443  1.110963  0.881806\n",
      "20  0.658701  4.345942  1.067138\n",
      "21  0.779941  0.798315  1.196048\n",
      "22  0.829036  1.168976  1.986811\n",
      "23  0.329071  4.298919  0.864133\n",
      "24  0.722197  2.735595  0.980098\n"
     ]
    },
    {
     "data": {
      "image/png": "[encoded data removed]",
      "text/plain": [
       "<Figure size 432x288 with 2 Axes>"
      ]
     },
     "metadata": {
      "needs_background": "light"
     },
     "output_type": "display_data"
    }
   ],
   "source": [
    "import pandas as pd\n",
    "import matplotlib.pyplot as plt\n",
    "import numpy as np\n",
    "\n",
    "df = pd.DataFrame({'x' : np.random.random(25), \n",
    "                   'y' : np.random.random(25)*5, \n",
    "                   'z' : np.random.random(25)*2.5})\n",
    "\n",
    "\n",
    "df.iloc[:, 1:10].plot(kind='bar', stacked=True)\n",
    "\n",
    "df.iloc[:, 0].plot(kind='line', y='x', secondary_y=True)\n",
    "\n",
    "\n",
    "plt.show()"
   ]
  },
  {
   "cell_type": "code",
   "execution_count": 1,
   "metadata": {},
   "outputs": [
    {
     "ename": "NameError",
     "evalue": "name 'city_comsize' is not defined",
     "output_type": "error",
     "traceback": [
      "\u001b[0;31m---------------------------------------------------------------------------\u001b[0m",
      "\u001b[0;31mNameError\u001b[0m                                 Traceback (most recent call last)",
      "\u001b[1;32m/home/cuong/PythonProjects/GK_KHDL/SalaryDataset/testjupiter.ipynb Cell 3'\u001b[0m in \u001b[0;36m<cell line: 1>\u001b[0;34m()\u001b[0m\n\u001b[0;32m----> <a href='vscode-notebook-cell:/home/cuong/PythonProjects/GK_KHDL/SalaryDataset/testjupiter.ipynb#ch0000002?line=0'>1</a>\u001b[0m group_bar \u001b[39m=\u001b[39m city_comsize\u001b[39m.\u001b[39mloc[city_comsize[\u001b[39m'\u001b[39m\u001b[39mCity\u001b[39m\u001b[39m'\u001b[39m] \u001b[39m==\u001b[39m\u001b[39m'\u001b[39m\u001b[39mBerlin\u001b[39m\u001b[39m'\u001b[39m]\u001b[39m.\u001b[39mgroupby(\n\u001b[1;32m      <a href='vscode-notebook-cell:/home/cuong/PythonProjects/GK_KHDL/SalaryDataset/testjupiter.ipynb#ch0000002?line=1'>2</a>\u001b[0m     \u001b[39m'\u001b[39m\u001b[39mCompany size\u001b[39m\u001b[39m'\u001b[39m)\u001b[39m.\u001b[39mcount()\n\u001b[1;32m      <a href='vscode-notebook-cell:/home/cuong/PythonProjects/GK_KHDL/SalaryDataset/testjupiter.ipynb#ch0000002?line=4'>5</a>\u001b[0m data \u001b[39m=\u001b[39m \u001b[39mdict\u001b[39m()\n\u001b[1;32m      <a href='vscode-notebook-cell:/home/cuong/PythonProjects/GK_KHDL/SalaryDataset/testjupiter.ipynb#ch0000002?line=5'>6</a>\u001b[0m data[\u001b[39m'\u001b[39m\u001b[39mCity\u001b[39m\u001b[39m'\u001b[39m] \u001b[39m=\u001b[39m[\u001b[39m'\u001b[39m\u001b[39mBerlin\u001b[39m\u001b[39m'\u001b[39m,\u001b[39m'\u001b[39m\u001b[39mDistin\u001b[39m\u001b[39m'\u001b[39m,\u001b[39m'\u001b[39m\u001b[39mHello\u001b[39m\u001b[39m'\u001b[39m]\n",
      "\u001b[0;31mNameError\u001b[0m: name 'city_comsize' is not defined"
     ]
    }
   ],
   "source": [
    "group_bar = city_comsize.loc[city_comsize['City'] =='Berlin'].groupby(\n",
    "    'Company size').count()\n",
    "\n",
    "\n",
    "data = dict()\n",
    "data['City'] =['Berlin','Distin','Hello']\n",
    "data['50']=[2,6,6]\n",
    "data['100'] =[3,9,8]\n",
    "data['z'] = [30,90,20]\n",
    "df = pd.DataFrame(data)\n",
    "print(df)\n",
    "df.plot(x='City', y=[\"50\", \"100\"], kind=\"bar\" )\n",
    "# df.iloc[:, 2].plot(x='City', kind='line', y='z', secondary_y=True)\n",
    "df['z'].plot(secondary_y=True)"
   ]
  }
 ],
 "metadata": {
  "interpreter": {
   "hash": "97cc609b13305c559618ec78a438abc56230b9381f827f22d070313b9a1f3777"
  },
  "kernelspec": {
   "display_name": "Python 3.10.4 64-bit",
   "language": "python",
   "name": "python3"
  },
  "language_info": {
   "codemirror_mode": {
    "name": "ipython",
    "version": 3
   },
   "file_extension": ".py",
   "mimetype": "text/x-python",
   "name": "python",
   "nbconvert_exporter": "python",
   "pygments_lexer": "ipython3",
   "version": "3.10.4"
  },
  "orig_nbformat": 4
 },
 "nbformat": 4,
 "nbformat_minor": 2
}
